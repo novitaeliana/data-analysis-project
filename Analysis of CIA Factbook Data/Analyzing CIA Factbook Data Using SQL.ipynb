{
 "cells": [
  {
   "cell_type": "code",
   "execution_count": 1,
   "metadata": {},
   "outputs": [],
   "source": [
    "%%capture\n",
    "%load_ext sql\n",
    "%sql sqlite:///factbook.db"
   ]
  },
  {
   "cell_type": "code",
   "execution_count": 2,
   "metadata": {},
   "outputs": [],
   "source": [
    "%config SqlMagic.feedback = False\n",
    "%config SqlMagic.displaycon = False\n",
    "%config SqlMagic.displaylimit = 100"
   ]
  },
  {
   "cell_type": "code",
   "execution_count": 3,
   "metadata": {
    "scrolled": true
   },
   "outputs": [
    {
     "data": {
      "text/html": [
       "<table>\n",
       "    <thead>\n",
       "        <tr>\n",
       "            <th>name</th>\n",
       "            <th>type</th>\n",
       "        </tr>\n",
       "    </thead>\n",
       "    <tbody>\n",
       "        <tr>\n",
       "            <td>sqlite_sequence</td>\n",
       "            <td>table</td>\n",
       "        </tr>\n",
       "        <tr>\n",
       "            <td>facts</td>\n",
       "            <td>table</td>\n",
       "        </tr>\n",
       "    </tbody>\n",
       "</table>"
      ],
      "text/plain": [
       "+-----------------+-------+\n",
       "|       name      |  type |\n",
       "+-----------------+-------+\n",
       "| sqlite_sequence | table |\n",
       "|      facts      | table |\n",
       "+-----------------+-------+"
      ]
     },
     "execution_count": 3,
     "metadata": {},
     "output_type": "execute_result"
    }
   ],
   "source": [
    "%%sql\n",
    "SELECT name, type\n",
    "  FROM sqlite_master\n",
    " WHERE type='table';"
   ]
  },
  {
   "cell_type": "markdown",
   "metadata": {},
   "source": [
    "### Introduction\n",
    "\n",
    "The data in this project derived from https://www.cia.gov/the-world-factbook/ which contains statistics about all of countries in the world. The factbook contains demographic information such as population, population growth and total area of water and land. The table contains an outlier row that present total number of world population instead total population per country, therefore in the further analysis, this row will be excluded so the data correctly present total population per country. Below are some interesting questions pertaining world statistics. "
   ]
  },
  {
   "cell_type": "markdown",
   "metadata": {},
   "source": [
    "1. Minimum and maximum population number and population growth"
   ]
  },
  {
   "cell_type": "code",
   "execution_count": 4,
   "metadata": {},
   "outputs": [
    {
     "data": {
      "text/html": [
       "<table>\n",
       "    <thead>\n",
       "        <tr>\n",
       "            <th>Minimum_population</th>\n",
       "            <th>Maxmimum_population</th>\n",
       "            <th>Minimum_population_growth</th>\n",
       "            <th>Maximum_population_growth</th>\n",
       "        </tr>\n",
       "    </thead>\n",
       "    <tbody>\n",
       "        <tr>\n",
       "            <td>0</td>\n",
       "            <td>1367485388</td>\n",
       "            <td>0.0</td>\n",
       "            <td>4.02</td>\n",
       "        </tr>\n",
       "    </tbody>\n",
       "</table>"
      ],
      "text/plain": [
       "+--------------------+---------------------+---------------------------+---------------------------+\n",
       "| Minimum_population | Maxmimum_population | Minimum_population_growth | Maximum_population_growth |\n",
       "+--------------------+---------------------+---------------------------+---------------------------+\n",
       "|         0          |      1367485388     |            0.0            |            4.02           |\n",
       "+--------------------+---------------------+---------------------------+---------------------------+"
      ]
     },
     "execution_count": 4,
     "metadata": {},
     "output_type": "execute_result"
    }
   ],
   "source": [
    "%%sql\n",
    "\n",
    "SELECT MIN (population) AS Minimum_population,\n",
    "       MAX (population) AS Maxmimum_population,\n",
    "       MIN (population_growth) AS Minimum_population_growth,\n",
    "       MAX (population_growth) AS Maximum_population_growth\n",
    "  FROM facts\n",
    "  WHERE name <> 'World';"
   ]
  },
  {
   "cell_type": "markdown",
   "metadata": {},
   "source": [
    "Note: Antartica has 0 population since there is no indigenous inhabitants, but there are both permanent and summer-only staffed research stations. "
   ]
  },
  {
   "cell_type": "markdown",
   "metadata": {},
   "source": [
    "2. World average population and area"
   ]
  },
  {
   "cell_type": "code",
   "execution_count": 5,
   "metadata": {},
   "outputs": [
    {
     "data": {
      "text/html": [
       "<table>\n",
       "    <thead>\n",
       "        <tr>\n",
       "            <th>average_population</th>\n",
       "            <th>average_area</th>\n",
       "        </tr>\n",
       "    </thead>\n",
       "    <tbody>\n",
       "        <tr>\n",
       "            <td>32242666.56846473</td>\n",
       "            <td>555093.546184739</td>\n",
       "        </tr>\n",
       "    </tbody>\n",
       "</table>"
      ],
      "text/plain": [
       "+--------------------+------------------+\n",
       "| average_population |   average_area   |\n",
       "+--------------------+------------------+\n",
       "| 32242666.56846473  | 555093.546184739 |\n",
       "+--------------------+------------------+"
      ]
     },
     "execution_count": 5,
     "metadata": {},
     "output_type": "execute_result"
    }
   ],
   "source": [
    "%%sql \n",
    "\n",
    "SELECT AVG(population) AS average_population, \n",
    "       AVG(area) AS average_area\n",
    "  FROM facts\n",
    "  WHERE name <> 'World';"
   ]
  },
  {
   "cell_type": "markdown",
   "metadata": {
    "collapsed": true
   },
   "source": [
    "3. List of densely populated countries"
   ]
  },
  {
   "cell_type": "code",
   "execution_count": 6,
   "metadata": {},
   "outputs": [
    {
     "data": {
      "text/html": [
       "<table>\n",
       "    <thead>\n",
       "        <tr>\n",
       "            <th>country_name</th>\n",
       "            <th>country_population</th>\n",
       "            <th>avg_world_population</th>\n",
       "            <th>country_area</th>\n",
       "            <th>avg_area_population</th>\n",
       "        </tr>\n",
       "    </thead>\n",
       "    <tbody>\n",
       "        <tr>\n",
       "            <td>Bangladesh</td>\n",
       "            <td>168957745</td>\n",
       "            <td>32242666.57</td>\n",
       "            <td>148460</td>\n",
       "            <td>555093.55</td>\n",
       "        </tr>\n",
       "        <tr>\n",
       "            <td>Germany</td>\n",
       "            <td>80854408</td>\n",
       "            <td>32242666.57</td>\n",
       "            <td>357022</td>\n",
       "            <td>555093.55</td>\n",
       "        </tr>\n",
       "        <tr>\n",
       "            <td>Iraq</td>\n",
       "            <td>37056169</td>\n",
       "            <td>32242666.57</td>\n",
       "            <td>438317</td>\n",
       "            <td>555093.55</td>\n",
       "        </tr>\n",
       "        <tr>\n",
       "            <td>Italy</td>\n",
       "            <td>61855120</td>\n",
       "            <td>32242666.57</td>\n",
       "            <td>301340</td>\n",
       "            <td>555093.55</td>\n",
       "        </tr>\n",
       "        <tr>\n",
       "            <td>Japan</td>\n",
       "            <td>126919659</td>\n",
       "            <td>32242666.57</td>\n",
       "            <td>377915</td>\n",
       "            <td>555093.55</td>\n",
       "        </tr>\n",
       "        <tr>\n",
       "            <td>Korea, South</td>\n",
       "            <td>49115196</td>\n",
       "            <td>32242666.57</td>\n",
       "            <td>99720</td>\n",
       "            <td>555093.55</td>\n",
       "        </tr>\n",
       "        <tr>\n",
       "            <td>Morocco</td>\n",
       "            <td>33322699</td>\n",
       "            <td>32242666.57</td>\n",
       "            <td>446550</td>\n",
       "            <td>555093.55</td>\n",
       "        </tr>\n",
       "        <tr>\n",
       "            <td>Philippines</td>\n",
       "            <td>100998376</td>\n",
       "            <td>32242666.57</td>\n",
       "            <td>300000</td>\n",
       "            <td>555093.55</td>\n",
       "        </tr>\n",
       "        <tr>\n",
       "            <td>Poland</td>\n",
       "            <td>38562189</td>\n",
       "            <td>32242666.57</td>\n",
       "            <td>312685</td>\n",
       "            <td>555093.55</td>\n",
       "        </tr>\n",
       "        <tr>\n",
       "            <td>Spain</td>\n",
       "            <td>48146134</td>\n",
       "            <td>32242666.57</td>\n",
       "            <td>505370</td>\n",
       "            <td>555093.55</td>\n",
       "        </tr>\n",
       "        <tr>\n",
       "            <td>Thailand</td>\n",
       "            <td>67976405</td>\n",
       "            <td>32242666.57</td>\n",
       "            <td>513120</td>\n",
       "            <td>555093.55</td>\n",
       "        </tr>\n",
       "        <tr>\n",
       "            <td>Uganda</td>\n",
       "            <td>37101745</td>\n",
       "            <td>32242666.57</td>\n",
       "            <td>241038</td>\n",
       "            <td>555093.55</td>\n",
       "        </tr>\n",
       "        <tr>\n",
       "            <td>United Kingdom</td>\n",
       "            <td>64088222</td>\n",
       "            <td>32242666.57</td>\n",
       "            <td>243610</td>\n",
       "            <td>555093.55</td>\n",
       "        </tr>\n",
       "        <tr>\n",
       "            <td>Vietnam</td>\n",
       "            <td>94348835</td>\n",
       "            <td>32242666.57</td>\n",
       "            <td>331210</td>\n",
       "            <td>555093.55</td>\n",
       "        </tr>\n",
       "    </tbody>\n",
       "</table>"
      ],
      "text/plain": [
       "+----------------+--------------------+----------------------+--------------+---------------------+\n",
       "|  country_name  | country_population | avg_world_population | country_area | avg_area_population |\n",
       "+----------------+--------------------+----------------------+--------------+---------------------+\n",
       "|   Bangladesh   |     168957745      |     32242666.57      |    148460    |      555093.55      |\n",
       "|    Germany     |      80854408      |     32242666.57      |    357022    |      555093.55      |\n",
       "|      Iraq      |      37056169      |     32242666.57      |    438317    |      555093.55      |\n",
       "|     Italy      |      61855120      |     32242666.57      |    301340    |      555093.55      |\n",
       "|     Japan      |     126919659      |     32242666.57      |    377915    |      555093.55      |\n",
       "|  Korea, South  |      49115196      |     32242666.57      |    99720     |      555093.55      |\n",
       "|    Morocco     |      33322699      |     32242666.57      |    446550    |      555093.55      |\n",
       "|  Philippines   |     100998376      |     32242666.57      |    300000    |      555093.55      |\n",
       "|     Poland     |      38562189      |     32242666.57      |    312685    |      555093.55      |\n",
       "|     Spain      |      48146134      |     32242666.57      |    505370    |      555093.55      |\n",
       "|    Thailand    |      67976405      |     32242666.57      |    513120    |      555093.55      |\n",
       "|     Uganda     |      37101745      |     32242666.57      |    241038    |      555093.55      |\n",
       "| United Kingdom |      64088222      |     32242666.57      |    243610    |      555093.55      |\n",
       "|    Vietnam     |      94348835      |     32242666.57      |    331210    |      555093.55      |\n",
       "+----------------+--------------------+----------------------+--------------+---------------------+"
      ]
     },
     "execution_count": 6,
     "metadata": {},
     "output_type": "execute_result"
    }
   ],
   "source": [
    "%%sql \n",
    "\n",
    "SELECT name AS country_name, \n",
    "       population AS country_population,\n",
    "       ROUND((SELECT AVG(population)\n",
    "         FROM facts\n",
    "         WHERE name <>'World'),2) AS avg_world_population,\n",
    "       area AS country_area, \n",
    "       ROUND((SELECT AVG(area)\n",
    "         FROM facts\n",
    "         WHERE name <>'World'),2) AS avg_area_population\n",
    "  FROM facts\n",
    " WHERE name <> 'World' AND population>(SELECT AVG(population)\n",
    "                                           FROM facts\n",
    "                                        WHERE name<>'World')\n",
    "    \n",
    "    AND area<(SELECT AVG(area)\n",
    "               FROM facts\n",
    "               WHERE name<>'World')"
   ]
  },
  {
   "cell_type": "markdown",
   "metadata": {},
   "source": [
    "4. Country with the highest number of population "
   ]
  },
  {
   "cell_type": "code",
   "execution_count": 7,
   "metadata": {},
   "outputs": [
    {
     "data": {
      "text/html": [
       "<table>\n",
       "    <thead>\n",
       "        <tr>\n",
       "            <th>name</th>\n",
       "            <th>country_with_highest_population</th>\n",
       "        </tr>\n",
       "    </thead>\n",
       "    <tbody>\n",
       "        <tr>\n",
       "            <td>China</td>\n",
       "            <td>1367485388</td>\n",
       "        </tr>\n",
       "    </tbody>\n",
       "</table>"
      ],
      "text/plain": [
       "+-------+---------------------------------+\n",
       "|  name | country_with_highest_population |\n",
       "+-------+---------------------------------+\n",
       "| China |            1367485388           |\n",
       "+-------+---------------------------------+"
      ]
     },
     "execution_count": 7,
     "metadata": {},
     "output_type": "execute_result"
    }
   ],
   "source": [
    "%%sql \n",
    "SELECT name,\n",
    "       MAX(population)country_with_highest_population\n",
    "  FROM facts\n",
    "  WHERE name <> 'World'\n",
    "  LIMIT 10;\n"
   ]
  },
  {
   "cell_type": "markdown",
   "metadata": {},
   "source": [
    "5. Country with the highest population growth rate"
   ]
  },
  {
   "cell_type": "code",
   "execution_count": 8,
   "metadata": {},
   "outputs": [
    {
     "data": {
      "text/html": [
       "<table>\n",
       "    <thead>\n",
       "        <tr>\n",
       "            <th>name</th>\n",
       "            <th>country_with_highest_population_growth</th>\n",
       "        </tr>\n",
       "    </thead>\n",
       "    <tbody>\n",
       "        <tr>\n",
       "            <td>South Sudan</td>\n",
       "            <td>4.02</td>\n",
       "        </tr>\n",
       "    </tbody>\n",
       "</table>"
      ],
      "text/plain": [
       "+-------------+----------------------------------------+\n",
       "|     name    | country_with_highest_population_growth |\n",
       "+-------------+----------------------------------------+\n",
       "| South Sudan |                  4.02                  |\n",
       "+-------------+----------------------------------------+"
      ]
     },
     "execution_count": 8,
     "metadata": {},
     "output_type": "execute_result"
    }
   ],
   "source": [
    "%%sql \n",
    "\n",
    "SELECT name,\n",
    "       MAX(population_growth)country_with_highest_population_growth\n",
    "  FROM facts\n",
    "  WHERE name <> 'World'\n",
    "  LIMIT 10;"
   ]
  },
  {
   "cell_type": "markdown",
   "metadata": {},
   "source": [
    "6. Countries that have the highest ratios of water to land"
   ]
  },
  {
   "cell_type": "code",
   "execution_count": 9,
   "metadata": {
    "scrolled": true
   },
   "outputs": [
    {
     "data": {
      "text/html": [
       "<table>\n",
       "    <thead>\n",
       "        <tr>\n",
       "            <th>name</th>\n",
       "            <th>ratio_water_to_land</th>\n",
       "        </tr>\n",
       "    </thead>\n",
       "    <tbody>\n",
       "        <tr>\n",
       "            <td>British Indian Ocean Territory</td>\n",
       "            <td>905</td>\n",
       "        </tr>\n",
       "        <tr>\n",
       "            <td>Virgin Islands</td>\n",
       "            <td>4</td>\n",
       "        </tr>\n",
       "        <tr>\n",
       "            <td>Zimbabwe</td>\n",
       "            <td>0</td>\n",
       "        </tr>\n",
       "        <tr>\n",
       "            <td>Zambia</td>\n",
       "            <td>0</td>\n",
       "        </tr>\n",
       "        <tr>\n",
       "            <td>Yemen</td>\n",
       "            <td>0</td>\n",
       "        </tr>\n",
       "        <tr>\n",
       "            <td>Western Sahara</td>\n",
       "            <td>0</td>\n",
       "        </tr>\n",
       "        <tr>\n",
       "            <td>West Bank</td>\n",
       "            <td>0</td>\n",
       "        </tr>\n",
       "        <tr>\n",
       "            <td>Wallis and Futuna</td>\n",
       "            <td>0</td>\n",
       "        </tr>\n",
       "        <tr>\n",
       "            <td>Wake Island</td>\n",
       "            <td>0</td>\n",
       "        </tr>\n",
       "        <tr>\n",
       "            <td>Vietnam</td>\n",
       "            <td>0</td>\n",
       "        </tr>\n",
       "    </tbody>\n",
       "</table>"
      ],
      "text/plain": [
       "+--------------------------------+---------------------+\n",
       "|              name              | ratio_water_to_land |\n",
       "+--------------------------------+---------------------+\n",
       "| British Indian Ocean Territory |         905         |\n",
       "|         Virgin Islands         |          4          |\n",
       "|            Zimbabwe            |          0          |\n",
       "|             Zambia             |          0          |\n",
       "|             Yemen              |          0          |\n",
       "|         Western Sahara         |          0          |\n",
       "|           West Bank            |          0          |\n",
       "|       Wallis and Futuna        |          0          |\n",
       "|          Wake Island           |          0          |\n",
       "|            Vietnam             |          0          |\n",
       "+--------------------------------+---------------------+"
      ]
     },
     "execution_count": 9,
     "metadata": {},
     "output_type": "execute_result"
    }
   ],
   "source": [
    "%%sql \n",
    "\n",
    "SELECT name,area_water/area_land AS ratio_water_to_land\n",
    "  FROM facts\n",
    "  WHERE name <> 'World'\n",
    "  GROUP BY name\n",
    "  ORDER BY ratio_water_to_land DESC\n",
    " LIMIT 10;"
   ]
  },
  {
   "cell_type": "markdown",
   "metadata": {},
   "source": [
    " 7. Countries that have more water than land"
   ]
  },
  {
   "cell_type": "code",
   "execution_count": 10,
   "metadata": {},
   "outputs": [
    {
     "data": {
      "text/html": [
       "<table>\n",
       "    <thead>\n",
       "        <tr>\n",
       "            <th>name</th>\n",
       "            <th>area_water</th>\n",
       "            <th>area_land</th>\n",
       "        </tr>\n",
       "    </thead>\n",
       "    <tbody>\n",
       "        <tr>\n",
       "            <td>British Indian Ocean Territory</td>\n",
       "            <td>54340</td>\n",
       "            <td>60</td>\n",
       "        </tr>\n",
       "        <tr>\n",
       "            <td>Virgin Islands</td>\n",
       "            <td>1564</td>\n",
       "            <td>346</td>\n",
       "        </tr>\n",
       "    </tbody>\n",
       "</table>"
      ],
      "text/plain": [
       "+--------------------------------+------------+-----------+\n",
       "|              name              | area_water | area_land |\n",
       "+--------------------------------+------------+-----------+\n",
       "| British Indian Ocean Territory |   54340    |     60    |\n",
       "|         Virgin Islands         |    1564    |    346    |\n",
       "+--------------------------------+------------+-----------+"
      ]
     },
     "execution_count": 10,
     "metadata": {},
     "output_type": "execute_result"
    }
   ],
   "source": [
    "%%sql \n",
    "\n",
    "SELECT name,area_water,area_land \n",
    "  FROM facts\n",
    "  WHERE name <> 'World' AND area_water>area_land\n",
    " LIMIT 10;"
   ]
  },
  {
   "cell_type": "markdown",
   "metadata": {},
   "source": [
    "8. Countries that will add the most people to their populations next year "
   ]
  },
  {
   "cell_type": "code",
   "execution_count": 11,
   "metadata": {},
   "outputs": [
    {
     "data": {
      "text/html": [
       "<table>\n",
       "    <thead>\n",
       "        <tr>\n",
       "            <th>name</th>\n",
       "            <th>population_growth</th>\n",
       "        </tr>\n",
       "    </thead>\n",
       "    <tbody>\n",
       "        <tr>\n",
       "            <td>South Sudan</td>\n",
       "            <td>4.02</td>\n",
       "        </tr>\n",
       "        <tr>\n",
       "            <td>Malawi</td>\n",
       "            <td>3.32</td>\n",
       "        </tr>\n",
       "        <tr>\n",
       "            <td>Burundi</td>\n",
       "            <td>3.28</td>\n",
       "        </tr>\n",
       "        <tr>\n",
       "            <td>Niger</td>\n",
       "            <td>3.25</td>\n",
       "        </tr>\n",
       "        <tr>\n",
       "            <td>Uganda</td>\n",
       "            <td>3.24</td>\n",
       "        </tr>\n",
       "        <tr>\n",
       "            <td>Qatar</td>\n",
       "            <td>3.07</td>\n",
       "        </tr>\n",
       "        <tr>\n",
       "            <td>Burkina Faso</td>\n",
       "            <td>3.03</td>\n",
       "        </tr>\n",
       "        <tr>\n",
       "            <td>Mali</td>\n",
       "            <td>2.98</td>\n",
       "        </tr>\n",
       "        <tr>\n",
       "            <td>Cook Islands</td>\n",
       "            <td>2.95</td>\n",
       "        </tr>\n",
       "        <tr>\n",
       "            <td>Iraq</td>\n",
       "            <td>2.93</td>\n",
       "        </tr>\n",
       "    </tbody>\n",
       "</table>"
      ],
      "text/plain": [
       "+--------------+-------------------+\n",
       "|     name     | population_growth |\n",
       "+--------------+-------------------+\n",
       "| South Sudan  |        4.02       |\n",
       "|    Malawi    |        3.32       |\n",
       "|   Burundi    |        3.28       |\n",
       "|    Niger     |        3.25       |\n",
       "|    Uganda    |        3.24       |\n",
       "|    Qatar     |        3.07       |\n",
       "| Burkina Faso |        3.03       |\n",
       "|     Mali     |        2.98       |\n",
       "| Cook Islands |        2.95       |\n",
       "|     Iraq     |        2.93       |\n",
       "+--------------+-------------------+"
      ]
     },
     "execution_count": 11,
     "metadata": {},
     "output_type": "execute_result"
    }
   ],
   "source": [
    "%%sql \n",
    "\n",
    "SELECT name, population_growth\n",
    "  FROM facts\n",
    " WHERE name <>'World' and population_growth <> 'None'\n",
    " ORDER BY population_growth DESC\n",
    " LIMIT 10;"
   ]
  },
  {
   "cell_type": "markdown",
   "metadata": {},
   "source": [
    " 9. Countries that have a higher death rate than birth rate"
   ]
  },
  {
   "cell_type": "code",
   "execution_count": 12,
   "metadata": {},
   "outputs": [
    {
     "data": {
      "text/html": [
       "<table>\n",
       "    <thead>\n",
       "        <tr>\n",
       "            <th>name</th>\n",
       "            <th>population</th>\n",
       "            <th>population_growth</th>\n",
       "            <th>birth_rate</th>\n",
       "            <th>death_rate</th>\n",
       "        </tr>\n",
       "    </thead>\n",
       "    <tbody>\n",
       "        <tr>\n",
       "            <td>Austria</td>\n",
       "            <td>8665550</td>\n",
       "            <td>0.55</td>\n",
       "            <td>9.41</td>\n",
       "            <td>9.42</td>\n",
       "        </tr>\n",
       "        <tr>\n",
       "            <td>Belarus</td>\n",
       "            <td>9589689</td>\n",
       "            <td>0.2</td>\n",
       "            <td>10.7</td>\n",
       "            <td>13.36</td>\n",
       "        </tr>\n",
       "        <tr>\n",
       "            <td>Bosnia and Herzegovina</td>\n",
       "            <td>3867055</td>\n",
       "            <td>0.13</td>\n",
       "            <td>8.87</td>\n",
       "            <td>9.75</td>\n",
       "        </tr>\n",
       "        <tr>\n",
       "            <td>Bulgaria</td>\n",
       "            <td>7186893</td>\n",
       "            <td>0.58</td>\n",
       "            <td>8.92</td>\n",
       "            <td>14.44</td>\n",
       "        </tr>\n",
       "        <tr>\n",
       "            <td>Croatia</td>\n",
       "            <td>4464844</td>\n",
       "            <td>0.13</td>\n",
       "            <td>9.45</td>\n",
       "            <td>12.18</td>\n",
       "        </tr>\n",
       "        <tr>\n",
       "            <td>Czech Republic</td>\n",
       "            <td>10644842</td>\n",
       "            <td>0.16</td>\n",
       "            <td>9.63</td>\n",
       "            <td>10.34</td>\n",
       "        </tr>\n",
       "        <tr>\n",
       "            <td>Estonia</td>\n",
       "            <td>1265420</td>\n",
       "            <td>0.55</td>\n",
       "            <td>10.51</td>\n",
       "            <td>12.4</td>\n",
       "        </tr>\n",
       "        <tr>\n",
       "            <td>Germany</td>\n",
       "            <td>80854408</td>\n",
       "            <td>0.17</td>\n",
       "            <td>8.47</td>\n",
       "            <td>11.42</td>\n",
       "        </tr>\n",
       "        <tr>\n",
       "            <td>Greece</td>\n",
       "            <td>10775643</td>\n",
       "            <td>0.01</td>\n",
       "            <td>8.66</td>\n",
       "            <td>11.09</td>\n",
       "        </tr>\n",
       "        <tr>\n",
       "            <td>Hungary</td>\n",
       "            <td>9897541</td>\n",
       "            <td>0.22</td>\n",
       "            <td>9.16</td>\n",
       "            <td>12.73</td>\n",
       "        </tr>\n",
       "    </tbody>\n",
       "</table>"
      ],
      "text/plain": [
       "+------------------------+------------+-------------------+------------+------------+\n",
       "|          name          | population | population_growth | birth_rate | death_rate |\n",
       "+------------------------+------------+-------------------+------------+------------+\n",
       "|        Austria         |  8665550   |        0.55       |    9.41    |    9.42    |\n",
       "|        Belarus         |  9589689   |        0.2        |    10.7    |   13.36    |\n",
       "| Bosnia and Herzegovina |  3867055   |        0.13       |    8.87    |    9.75    |\n",
       "|        Bulgaria        |  7186893   |        0.58       |    8.92    |   14.44    |\n",
       "|        Croatia         |  4464844   |        0.13       |    9.45    |   12.18    |\n",
       "|     Czech Republic     |  10644842  |        0.16       |    9.63    |   10.34    |\n",
       "|        Estonia         |  1265420   |        0.55       |   10.51    |    12.4    |\n",
       "|        Germany         |  80854408  |        0.17       |    8.47    |   11.42    |\n",
       "|         Greece         |  10775643  |        0.01       |    8.66    |   11.09    |\n",
       "|        Hungary         |  9897541   |        0.22       |    9.16    |   12.73    |\n",
       "+------------------------+------------+-------------------+------------+------------+"
      ]
     },
     "execution_count": 12,
     "metadata": {},
     "output_type": "execute_result"
    }
   ],
   "source": [
    "%%sql \n",
    "\n",
    "SELECT name, population, population_growth, birth_rate,death_rate\n",
    "  FROM facts\n",
    " WHERE name <> 'World' AND death_rate > birth_rate\n",
    " LIMIT 10;"
   ]
  },
  {
   "cell_type": "markdown",
   "metadata": {},
   "source": [
    "10. Countries have the highest population/area ratio"
   ]
  },
  {
   "cell_type": "code",
   "execution_count": 13,
   "metadata": {},
   "outputs": [
    {
     "data": {
      "text/html": [
       "<table>\n",
       "    <thead>\n",
       "        <tr>\n",
       "            <th>name</th>\n",
       "            <th>population</th>\n",
       "            <th>area</th>\n",
       "            <th>ratio_population_area</th>\n",
       "        </tr>\n",
       "    </thead>\n",
       "    <tbody>\n",
       "        <tr>\n",
       "            <td>Macau</td>\n",
       "            <td>592731</td>\n",
       "            <td>28</td>\n",
       "            <td>21168</td>\n",
       "        </tr>\n",
       "        <tr>\n",
       "            <td>Monaco</td>\n",
       "            <td>30535</td>\n",
       "            <td>2</td>\n",
       "            <td>15267</td>\n",
       "        </tr>\n",
       "        <tr>\n",
       "            <td>Singapore</td>\n",
       "            <td>5674472</td>\n",
       "            <td>697</td>\n",
       "            <td>8141</td>\n",
       "        </tr>\n",
       "        <tr>\n",
       "            <td>Hong Kong</td>\n",
       "            <td>7141106</td>\n",
       "            <td>1108</td>\n",
       "            <td>6445</td>\n",
       "        </tr>\n",
       "        <tr>\n",
       "            <td>Gaza Strip</td>\n",
       "            <td>1869055</td>\n",
       "            <td>360</td>\n",
       "            <td>5191</td>\n",
       "        </tr>\n",
       "        <tr>\n",
       "            <td>Gibraltar</td>\n",
       "            <td>29258</td>\n",
       "            <td>6</td>\n",
       "            <td>4876</td>\n",
       "        </tr>\n",
       "        <tr>\n",
       "            <td>Bahrain</td>\n",
       "            <td>1346613</td>\n",
       "            <td>760</td>\n",
       "            <td>1771</td>\n",
       "        </tr>\n",
       "        <tr>\n",
       "            <td>Maldives</td>\n",
       "            <td>393253</td>\n",
       "            <td>298</td>\n",
       "            <td>1319</td>\n",
       "        </tr>\n",
       "        <tr>\n",
       "            <td>Malta</td>\n",
       "            <td>413965</td>\n",
       "            <td>316</td>\n",
       "            <td>1310</td>\n",
       "        </tr>\n",
       "        <tr>\n",
       "            <td>Bermuda</td>\n",
       "            <td>70196</td>\n",
       "            <td>54</td>\n",
       "            <td>1299</td>\n",
       "        </tr>\n",
       "    </tbody>\n",
       "</table>"
      ],
      "text/plain": [
       "+------------+------------+------+-----------------------+\n",
       "|    name    | population | area | ratio_population_area |\n",
       "+------------+------------+------+-----------------------+\n",
       "|   Macau    |   592731   |  28  |         21168         |\n",
       "|   Monaco   |   30535    |  2   |         15267         |\n",
       "| Singapore  |  5674472   | 697  |          8141         |\n",
       "| Hong Kong  |  7141106   | 1108 |          6445         |\n",
       "| Gaza Strip |  1869055   | 360  |          5191         |\n",
       "| Gibraltar  |   29258    |  6   |          4876         |\n",
       "|  Bahrain   |  1346613   | 760  |          1771         |\n",
       "|  Maldives  |   393253   | 298  |          1319         |\n",
       "|   Malta    |   413965   | 316  |          1310         |\n",
       "|  Bermuda   |   70196    |  54  |          1299         |\n",
       "+------------+------------+------+-----------------------+"
      ]
     },
     "execution_count": 13,
     "metadata": {},
     "output_type": "execute_result"
    }
   ],
   "source": [
    "%%sql \n",
    "SELECT name, population, area, population/area AS ratio_population_area\n",
    "  FROM facts\n",
    " WHERE name <> 'World' AND area <>'None' AND population <>'None' AND area <>0\n",
    " ORDER BY ratio_population_area DESC\n",
    " LIMIT 10;"
   ]
  },
  {
   "cell_type": "code",
   "execution_count": null,
   "metadata": {},
   "outputs": [],
   "source": []
  }
 ],
 "metadata": {
  "kernelspec": {
   "display_name": "Python 3 (ipykernel)",
   "language": "python",
   "name": "python3"
  },
  "language_info": {
   "codemirror_mode": {
    "name": "ipython",
    "version": 3
   },
   "file_extension": ".py",
   "mimetype": "text/x-python",
   "name": "python",
   "nbconvert_exporter": "python",
   "pygments_lexer": "ipython3",
   "version": "3.10.9"
  }
 },
 "nbformat": 4,
 "nbformat_minor": 2
}
