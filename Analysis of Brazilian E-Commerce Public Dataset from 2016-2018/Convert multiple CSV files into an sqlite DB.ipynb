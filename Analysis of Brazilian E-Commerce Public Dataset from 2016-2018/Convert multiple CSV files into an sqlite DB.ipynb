{
 "cells": [
  {
   "cell_type": "markdown",
   "id": "0cb3a62b",
   "metadata": {},
   "source": [
    "#### Instructions\n",
    "- Download the dataset at https://www.kaggle.com/datasets/olistbr/brazilian-ecommerce\n",
    "- Unzip the .zip file\n",
    "- Place the unzipped files in the same directory as this notebook\n",
    "- Run the cells in this notebook"
   ]
  },
  {
   "cell_type": "code",
   "execution_count": 2,
   "id": "9a0e4549",
   "metadata": {},
   "outputs": [],
   "source": [
    "import sqlite3\n",
    "import pandas as pd\n",
    "from os import listdir"
   ]
  },
  {
   "cell_type": "code",
   "execution_count": 12,
   "id": "b1a65b13",
   "metadata": {},
   "outputs": [],
   "source": [
    "# fix column names in olist_products_dataset.csv\n",
    "temp = pd.read_csv('ecommerce-olist/olist_products_dataset.csv')\n",
    "if 'Unnamed: 0' in temp.columns:\n",
    "    temp = temp.drop(columns=['Unnamed: 0'])\n",
    "temp = temp.rename(columns = {'product_name_lenght':'product_name_length', \n",
    "                              'product_description_lenght':'product_description_length'})\n",
    "# save the csv file\n",
    "temp.to_csv('ecommerce-olist/olist_products_dataset.csv')"
   ]
  },
  {
   "cell_type": "code",
   "execution_count": 13,
   "id": "3cfd8993",
   "metadata": {},
   "outputs": [],
   "source": [
    "def csv2sqlite(table_name:str, con:sqlite3.Connection):\n",
    "    df = pd.read_csv('ecommerce-olist/'+table_name+'.csv')\n",
    "    if 'Unnamed: 0' in df.columns:\n",
    "        df = df.drop(columns=['Unnamed: 0'])\n",
    "    df.to_sql(table_name, con, if_exists='replace', index=False)"
   ]
  },
  {
   "cell_type": "code",
   "execution_count": 14,
   "id": "4c31b3da",
   "metadata": {},
   "outputs": [],
   "source": [
    "# get all csv filenames\n",
    "files = [item[:-4] for item in listdir('ecommerce-olist') if item.endswith('.csv')]\n",
    "\n",
    "# connect to the database (if it doesn't exist yet, implicitly create it)\n",
    "connection = sqlite3.connect(\"olist.db\")\n",
    "\n",
    "# create the tables\n",
    "for table_name in files:\n",
    "    csv2sqlite(table_name, connection)"
   ]
  },
  {
   "cell_type": "code",
   "execution_count": 15,
   "id": "bbaa0843",
   "metadata": {},
   "outputs": [
    {
     "name": "stdout",
     "output_type": "stream",
     "text": [
      "olist_customers_dataset\n",
      "db size (99441, 5)\n",
      "csv size (99441, 5)\n",
      "olist_geolocation_dataset\n",
      "db size (1000163, 5)\n",
      "csv size (1000163, 5)\n",
      "olist_orders_dataset\n",
      "db size (99441, 8)\n",
      "csv size (99441, 8)\n",
      "olist_order_items_dataset\n",
      "db size (112650, 7)\n",
      "csv size (112650, 7)\n",
      "olist_order_payments_dataset\n",
      "db size (103886, 5)\n",
      "csv size (103886, 5)\n",
      "olist_order_reviews_dataset\n",
      "db size (99224, 7)\n",
      "csv size (99224, 7)\n",
      "olist_products_dataset\n",
      "db size (32951, 9)\n",
      "csv size (32951, 10)\n",
      "olist_sellers_dataset\n",
      "db size (3095, 4)\n",
      "csv size (3095, 4)\n",
      "product_category_name_translation\n",
      "db size (71, 2)\n",
      "csv size (71, 2)\n"
     ]
    }
   ],
   "source": [
    "# sanity check, make sure the csv file sizes are the same as the sqlite tables\n",
    "for i in files:\n",
    "    print(i)\n",
    "    db_res = pd.read_sql_query(f'select * from {i}', connection)\n",
    "    df_temp = pd.read_csv('ecommerce-olist/'+i+'.csv')\n",
    "    print('db size', db_res.shape)\n",
    "    print('csv size', df_temp.shape)\n",
    "    print()"
   ]
  },
  {
   "cell_type": "code",
   "execution_count": null,
   "id": "330732fd",
   "metadata": {},
   "outputs": [],
   "source": []
  }
 ],
 "metadata": {
  "kernelspec": {
   "display_name": "Python 3 (ipykernel)",
   "language": "python",
   "name": "python3"
  },
  "language_info": {
   "codemirror_mode": {
    "name": "ipython",
    "version": 3
   },
   "file_extension": ".py",
   "mimetype": "text/x-python",
   "name": "python",
   "nbconvert_exporter": "python",
   "pygments_lexer": "ipython3",
   "version": "3.10.9"
  }
 },
 "nbformat": 4,
 "nbformat_minor": 5
}
